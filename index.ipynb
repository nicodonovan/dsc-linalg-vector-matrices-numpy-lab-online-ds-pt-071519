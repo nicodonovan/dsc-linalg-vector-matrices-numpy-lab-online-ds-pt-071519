{
 "cells": [
  {
   "cell_type": "markdown",
   "metadata": {},
   "source": [
    "# Vectors and Matrices in Numpy - Lab\n",
    "\n",
    "## Introduction\n",
    "\n",
    "In this lab, you'll solve some simple matrix creation and manipulation exercises based on what you've learned so far in this section. The key takeaway here is to be able to understand how to use indexing with matrices and vectors while applying some basic operations.\n",
    "\n",
    "## Objectives\n",
    "\n",
    "In this lab you will: \n",
    "\n",
    "- Find the shape of vectors and matrices \n",
    "- Access and manipulate individual scalar components of a matrix \n",
    "- Create vectors and matrices using Numpy and Python\n",
    "\n",
    "## 1. Define two arrays $A$  with shape $ (4 \\times 2)$ and $B$ with shape $(2 \\times 3)$ \n",
    "So    $A =    \n",
    "  \\left[ {\\begin{array}{cc}\n",
    "   1402 & 191 \\\\\n",
    "   1371 &  821\\\\\n",
    "   949 &  1437 \\\\\n",
    "   147 & 1448 \\\\\n",
    "  \\end{array} }\\right]\n",
    "$\n",
    "and\n",
    "$\n",
    "B =    \n",
    "  \\left[ {\\begin{array}{ccc}\n",
    "   1 & 2 & 3 \\\\\n",
    "   4 & 5 & 6\\\\\n",
    "  \\end{array} }\\right]\n",
    "$"
   ]
  },
  {
   "cell_type": "code",
   "execution_count": 1,
   "metadata": {},
   "outputs": [],
   "source": [
    "import numpy as np"
   ]
  },
  {
   "cell_type": "code",
   "execution_count": 3,
   "metadata": {},
   "outputs": [
    {
     "name": "stdout",
     "output_type": "stream",
     "text": [
      "A = [[1402  191]\n",
      " [1371  821]\n",
      " [ 949 1437]\n",
      " [ 147 1448]]\n",
      "B = [[1 2 3]\n",
      " [4 5 6]]\n"
     ]
    }
   ],
   "source": [
    "# Code here\n",
    "A = np.array([[1402, 191], [1371, 821], [949, 1437], [147, 1448]])\n",
    "B = np.array([[1, 2, 3], [4, 5, 6]])\n",
    "print ('A =', A)\n",
    "print ('B =', B)"
   ]
  },
  {
   "cell_type": "markdown",
   "metadata": {},
   "source": [
    "## 2. Print the dimensions of $A$ and $B$ "
   ]
  },
  {
   "cell_type": "code",
   "execution_count": 4,
   "metadata": {},
   "outputs": [
    {
     "name": "stdout",
     "output_type": "stream",
     "text": [
      "Shape of A: (4, 2)\n",
      "Shape of B: (2, 3)\n"
     ]
    }
   ],
   "source": [
    "# Code here\n",
    "print('Shape of A:', A.shape)\n",
    "print('Shape of B:', B.shape)"
   ]
  },
  {
   "cell_type": "markdown",
   "metadata": {},
   "source": [
    "## 3. Print elements from $A$\n",
    "\n",
    "Print the following elements from $A$: \n",
    "\n",
    "* First row and first column\n",
    "* First row and second column\n",
    "* Third row and second column\n",
    "* Fourth row and first column"
   ]
  },
  {
   "cell_type": "code",
   "execution_count": 6,
   "metadata": {},
   "outputs": [
    {
     "name": "stdout",
     "output_type": "stream",
     "text": [
      "First row and first column: 1402\n",
      "First row and second column: 191\n",
      "Third row and second column: 1437\n",
      "Fourth row and first column: 147\n"
     ]
    }
   ],
   "source": [
    "# Code here\n",
    "print(\"First row and first column:\", A[0, 0])\n",
    "print(\"First row and second column:\", A[0, 1])\n",
    "print(\"Third row and second column:\", A[2, 1])\n",
    "print(\"Fourth row and first column:\", A[3, 0])"
   ]
  },
  {
   "cell_type": "markdown",
   "metadata": {},
   "source": [
    "## 4. Write a routine to populate a matrix with random data\n",
    "* Create an $(3 \\times 3)$ Numpy array with all zeros (use `np.zeros()`)\n",
    "* Access each location $(i,j)$ of this matrix and fill in random values between the range 1 and 10 "
   ]
  },
  {
   "cell_type": "code",
   "execution_count": 7,
   "metadata": {},
   "outputs": [
    {
     "name": "stdout",
     "output_type": "stream",
     "text": [
      "before random data:\n",
      " [[0. 0. 0.]\n",
      " [0. 0. 0.]\n",
      " [0. 0. 0.]]\n",
      "\n",
      "after random data:\n",
      " [[6. 1. 7.]\n",
      " [8. 5. 8.]\n",
      " [9. 6. 8.]]\n"
     ]
    }
   ],
   "source": [
    "# Code here\n",
    "import random\n",
    "M = np.zeros((3, 3))\n",
    "print ('before random data:\\n', M)\n",
    "\n",
    "for x in range(0, M.shape[0]):\n",
    "    for y in range(0, M.shape[1]):\n",
    "        M[x][y] = random.randrange(1, 10) \n",
    "print ('\\nafter random data:\\n',M)"
   ]
  },
  {
   "cell_type": "markdown",
   "metadata": {},
   "source": [
    "## 5. Turn the above routine into a function\n",
    "* Create two $(4 \\times 4)$ zero-valued matrices and fill with random data using the function\n",
    "* Add the matrices together in Numpy \n",
    "* Print the results"
   ]
  },
  {
   "cell_type": "code",
   "execution_count": 8,
   "metadata": {},
   "outputs": [
    {
     "name": "stdout",
     "output_type": "stream",
     "text": [
      "[[15. 13. 12.  6.]\n",
      " [11. 14.  6.  7.]\n",
      " [17.  7.  8.  5.]\n",
      " [ 9. 10. 14. 14.]]\n"
     ]
    }
   ],
   "source": [
    "# Code here\n",
    "def fill(matrix):\n",
    "\n",
    "    for x in range(0, matrix.shape[0]):\n",
    "        for y in range(0, matrix.shape[1]):\n",
    "            matrix[x][y] = random.randrange(1, 10)\n",
    "    \n",
    "    return matrix\n",
    "\n",
    "M1 = np.zeros((4, 4))\n",
    "M2 = np.zeros((4, 4))\n",
    "\n",
    "M1_filled = fill(M1)\n",
    "M2_filled = fill(M2)\n",
    "out = M1_filled + M2_filled\n",
    "\n",
    "print (out)"
   ]
  },
  {
   "cell_type": "markdown",
   "metadata": {},
   "source": [
    "## Summary \n",
    "\n",
    "In this lab, we saw how to create and manipulate vectors and matrices in Numpy. We shall now move forward to learning more complex operations including dot products and matrix inversions.  "
   ]
  }
 ],
 "metadata": {
  "kernelspec": {
   "display_name": "Python 3",
   "language": "python",
   "name": "python3"
  },
  "language_info": {
   "codemirror_mode": {
    "name": "ipython",
    "version": 3
   },
   "file_extension": ".py",
   "mimetype": "text/x-python",
   "name": "python",
   "nbconvert_exporter": "python",
   "pygments_lexer": "ipython3",
   "version": "3.6.6"
  }
 },
 "nbformat": 4,
 "nbformat_minor": 2
}
